{
 "cells": [
  {
   "cell_type": "markdown",
   "id": "27f0e56f",
   "metadata": {},
   "source": [
    "# Day 1 - Python Training"
   ]
  },
  {
   "cell_type": "code",
   "execution_count": 1,
   "id": "8e58c2ce",
   "metadata": {},
   "outputs": [
    {
     "data": {
      "text/plain": [
       "'/Users/michaeltzehaie/c217_python'"
      ]
     },
     "execution_count": 1,
     "metadata": {},
     "output_type": "execute_result"
    }
   ],
   "source": [
    "pwd"
   ]
  },
  {
   "cell_type": "code",
   "execution_count": 2,
   "id": "9f027652",
   "metadata": {},
   "outputs": [
    {
     "name": "stdout",
     "output_type": "stream",
     "text": [
      "Hello World\n"
     ]
    }
   ],
   "source": [
    "print(\"Hello World\")"
   ]
  },
  {
   "cell_type": "markdown",
   "id": "733884dd",
   "metadata": {},
   "source": []
  },
  {
   "cell_type": "code",
   "execution_count": 5,
   "id": "efad5606",
   "metadata": {},
   "outputs": [],
   "source": [
    "width = 20"
   ]
  },
  {
   "cell_type": "code",
   "execution_count": 6,
   "id": "a33cb817",
   "metadata": {},
   "outputs": [],
   "source": [
    "height = 10"
   ]
  },
  {
   "cell_type": "code",
   "execution_count": 7,
   "id": "b2b80620",
   "metadata": {},
   "outputs": [],
   "source": [
    "area = width * height"
   ]
  },
  {
   "cell_type": "code",
   "execution_count": 8,
   "id": "ce7c0491",
   "metadata": {},
   "outputs": [
    {
     "name": "stdout",
     "output_type": "stream",
     "text": [
      "Area of the rectangle is  200\n"
     ]
    }
   ],
   "source": [
    "print(\"Area of the rectangle is \", area)"
   ]
  },
  {
   "cell_type": "code",
   "execution_count": 9,
   "id": "23304977",
   "metadata": {},
   "outputs": [
    {
     "name": "stdout",
     "output_type": "stream",
     "text": [
      "Area of the rectangle is  200\n"
     ]
    }
   ],
   "source": [
    "width = 20\n",
    "height = 10\n",
    "area = width * height\n",
    "print(\"Area of the rectangle is \", area)"
   ]
  },
  {
   "cell_type": "markdown",
   "id": "0f5d05f6",
   "metadata": {},
   "source": [
    "Practice 1"
   ]
  },
  {
   "cell_type": "code",
   "execution_count": 1,
   "id": "d25c46a6",
   "metadata": {},
   "outputs": [],
   "source": [
    "name=\"Michael\"\n",
    "age=25\n",
    "city=[\"London\"]"
   ]
  },
  {
   "cell_type": "markdown",
   "id": "2d74280e",
   "metadata": {},
   "source": [
    "Practice 2b"
   ]
  },
  {
   "cell_type": "code",
   "execution_count": 2,
   "id": "906a3ca2",
   "metadata": {},
   "outputs": [
    {
     "name": "stdout",
     "output_type": "stream",
     "text": [
      "Michael\n",
      "25\n",
      "['London']\n"
     ]
    }
   ],
   "source": [
    "name=\"Michael\"\n",
    "print(name)\n",
    "age=25\n",
    "print(age)\n",
    "city=[\"London\"]\n",
    "print(city)"
   ]
  },
  {
   "cell_type": "code",
   "execution_count": 3,
   "id": "48e5e113",
   "metadata": {},
   "outputs": [
    {
     "ename": "SyntaxError",
     "evalue": "invalid decimal literal (2766639676.py, line 4)",
     "output_type": "error",
     "traceback": [
      "\u001b[0;36m  File \u001b[0;32m\"/var/folders/y1/k8mc2vgj1_l5185_pc48f84m0000gn/T/ipykernel_20151/2766639676.py\"\u001b[0;36m, line \u001b[0;32m4\u001b[0m\n\u001b[0;31m    5_age = 33  #incorrect\u001b[0m\n\u001b[0m     ^\u001b[0m\n\u001b[0;31mSyntaxError\u001b[0m\u001b[0;31m:\u001b[0m invalid decimal literal\n"
     ]
    }
   ],
   "source": [
    "age = 33 #correct\n",
    "_age = 33 #correct\n",
    "__age = 33 #correct\n",
    "5_age = 33  #incorrect\n",
    "-age = 33 #incorrect"
   ]
  },
  {
   "cell_type": "code",
   "execution_count": 4,
   "id": "e91bc7fa",
   "metadata": {},
   "outputs": [
    {
     "ename": "SyntaxError",
     "evalue": "cannot assign to operator (2747156782.py, line 5)",
     "output_type": "error",
     "traceback": [
      "\u001b[0;36m  File \u001b[0;32m\"/var/folders/y1/k8mc2vgj1_l5185_pc48f84m0000gn/T/ipykernel_20151/2747156782.py\"\u001b[0;36m, line \u001b[0;32m5\u001b[0m\n\u001b[0;31m    -age = 33 #incorrect\u001b[0m\n\u001b[0m    ^\u001b[0m\n\u001b[0;31mSyntaxError\u001b[0m\u001b[0;31m:\u001b[0m cannot assign to operator\n"
     ]
    }
   ],
   "source": [
    "age = 33 #correct\n",
    "_age = 33 #correct\n",
    "__age = 33 #correct\n",
    "age = 33  #incorrect\n",
    "-age = 33 #incorrect"
   ]
  },
  {
   "cell_type": "code",
   "execution_count": 5,
   "id": "10a51d29",
   "metadata": {},
   "outputs": [
    {
     "name": "stdout",
     "output_type": "stream",
     "text": [
      "Alex\n",
      "35\n",
      "['Kentucky', 'New Jersey']\n"
     ]
    }
   ],
   "source": [
    "name=\"Alex\"\n",
    "print(name)\n",
    "age = 35\n",
    "print(age)\n",
    "list_of_states = [\"Kentucky\",\"New Jersey\"]\n",
    "print(list_of_states)"
   ]
  },
  {
   "cell_type": "code",
   "execution_count": 2,
   "id": "e97fd7dd",
   "metadata": {},
   "outputs": [
    {
     "name": "stdout",
     "output_type": "stream",
     "text": [
      "5\n"
     ]
    }
   ],
   "source": [
    "thisisavalidvariablenamealthoughitisverylong=5\n",
    "print(thisisavalidvariablenamealthoughitisverylong)"
   ]
  },
  {
   "cell_type": "code",
   "execution_count": null,
   "id": "39a3e0de",
   "metadata": {},
   "outputs": [],
   "source": []
  }
 ],
 "metadata": {
  "kernelspec": {
   "display_name": "Python 3 (ipykernel)",
   "language": "python",
   "name": "python3"
  },
  "language_info": {
   "codemirror_mode": {
    "name": "ipython",
    "version": 3
   },
   "file_extension": ".py",
   "mimetype": "text/x-python",
   "name": "python",
   "nbconvert_exporter": "python",
   "pygments_lexer": "ipython3",
   "version": "3.9.7"
  }
 },
 "nbformat": 4,
 "nbformat_minor": 5
}
